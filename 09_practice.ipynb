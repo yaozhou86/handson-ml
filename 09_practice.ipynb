{
 "cells": [
  {
   "cell_type": "markdown",
   "metadata": {},
   "source": [
    "### Logistic Regression with Mini-Batch Gradient Descent using TensorFlow"
   ]
  },
  {
   "cell_type": "code",
   "execution_count": 1,
   "metadata": {},
   "outputs": [
    {
     "name": "stdout",
     "output_type": "stream",
     "text": [
      "0.18.1\n"
     ]
    }
   ],
   "source": [
    "import pandas as pd\n",
    "import numpy as np\n",
    "import sklearn\n",
    "import matplotlib.pyplot as plt\n",
    "import tensorflow as tf\n",
    "\n",
    "np.random.seed(42)\n",
    "print(sklearn.__version__)"
   ]
  },
  {
   "cell_type": "code",
   "execution_count": 2,
   "metadata": {
    "collapsed": true
   },
   "outputs": [],
   "source": [
    "def reset_graph(seed=42):\n",
    "    tf.reset_default_graph()\n",
    "    tf.set_random_seed(seed)\n",
    "    np.random.seed(seed)"
   ]
  },
  {
   "cell_type": "code",
   "execution_count": 3,
   "metadata": {
    "collapsed": true
   },
   "outputs": [],
   "source": [
    "from sklearn.datasets import make_moons\n",
    "\n",
    "m = 1000\n",
    "X_moons, y_moons = make_moons(m, noise=0.1, random_state=42)"
   ]
  },
  {
   "cell_type": "code",
   "execution_count": 4,
   "metadata": {},
   "outputs": [
    {
     "data": {
      "image/png": "[encoded data removed]",
      "text/plain": [
       "<matplotlib.figure.Figure at 0x25f803c2588>"
      ]
     },
     "metadata": {},
     "output_type": "display_data"
    }
   ],
   "source": [
    "fig = plt.figure()\n",
    "plt.plot(X_moons[y_moons==0, 0], X_moons[y_moons==0, 1], \"ro\")\n",
    "plt.plot(X_moons[y_moons==1, 0], X_moons[y_moons==1, 1], \"b^\")\n",
    "plt.show()"
   ]
  },
  {
   "cell_type": "code",
   "execution_count": 4,
   "metadata": {
    "collapsed": true
   },
   "outputs": [],
   "source": [
    "X_moon_with_bias = np.c_[np.ones((1000,1)), X_moons]\n",
    "y_reshaped = y_moons.reshape(-1,1)\n",
    "X_moon_train, X_moon_test = X_moon_with_bias[:700], X_moon_with_bias[700:]\n",
    "y_moon_train, y_moon_test = y_reshaped[:700], y_reshaped[700:]"
   ]
  },
  {
   "cell_type": "code",
   "execution_count": 5,
   "metadata": {
    "collapsed": true
   },
   "outputs": [],
   "source": [
    "def random_patch(X, y, batch_size):\n",
    "    rnd_idx = np.random.randint(0, len(X), batch_size)\n",
    "    X_batch = X[rnd_idx]\n",
    "    y_batch = y[rnd_idx]\n",
    "    return X_batch, y_batch"
   ]
  },
  {
   "cell_type": "code",
   "execution_count": 333,
   "metadata": {
    "collapsed": true
   },
   "outputs": [],
   "source": [
    "reset_graph()"
   ]
  },
  {
   "cell_type": "code",
   "execution_count": 334,
   "metadata": {
    "collapsed": true
   },
   "outputs": [],
   "source": [
    "n = X_moon_with_bias.shape[1]\n",
    "X = tf.placeholder(dtype=tf.float32, shape=(None, n), name=\"X\")\n",
    "y = tf.placeholder(dtype=tf.float32, shape=(None, 1), name=\"y\")\n",
    "theta = tf.Variable(tf.random_uniform([n,1], -1.0, 1.0, seed=42), name=\"theta\")\n",
    "logits = tf.matmul(X, theta, name=\"logits\")\n",
    "y_proba = 1/(1+tf.exp(-logits))"
   ]
  },
  {
   "cell_type": "code",
   "execution_count": 335,
   "metadata": {
    "collapsed": true
   },
   "outputs": [],
   "source": [
    "loss = tf.losses.log_loss(y, y_proba)\n",
    "optimizer = tf.train.GradientDescentOptimizer(learning_rate=0.01)\n",
    "training_op = optimizer.minimize(loss)"
   ]
  },
  {
   "cell_type": "code",
   "execution_count": 336,
   "metadata": {
    "collapsed": true
   },
   "outputs": [],
   "source": [
    "init = tf.global_variables_initializer()"
   ]
  },
  {
   "cell_type": "code",
   "execution_count": 337,
   "metadata": {},
   "outputs": [
    {
     "name": "stdout",
     "output_type": "stream",
     "text": [
      "Epoch:0, Loss:0.821357011795044\n",
      "Epoch:50, Loss:0.3621046841144562\n",
      "Epoch:100, Loss:0.3013417422771454\n",
      "Epoch:150, Loss:0.27537399530410767\n",
      "Epoch:200, Loss:0.2601950168609619\n",
      "Epoch:250, Loss:0.2504417896270752\n",
      "Epoch:300, Loss:0.24319951236248016\n",
      "Epoch:350, Loss:0.23835469782352448\n",
      "Epoch:400, Loss:0.23462969064712524\n",
      "Epoch:450, Loss:0.23181894421577454\n"
     ]
    }
   ],
   "source": [
    "iterations = 500 \n",
    "batch_size = 50\n",
    "n_batches = np.int(np.ceil(1000/batch_size))\n",
    "with tf.Session() as sess:\n",
    "    init.run()\n",
    "    for epoch in range(iterations):\n",
    "        for batch_index in range(n_batches):\n",
    "            X_batch, y_batch = random_patch(X_moon_train, y_moon_train, 50)\n",
    "            sess.run(training_op, {X: X_batch, y: y_batch})\n",
    "        loss_val = loss.eval(feed_dict={X:X_moon_test, y:y_moon_test})\n",
    "        if epoch%50==0:\n",
    "            print(\"Epoch:{0}, Loss:{1}\".format(epoch, loss_val))\n",
    "    y_proba_eval = y_proba.eval(feed_dict={X:X_moon_test})"
   ]
  },
  {
   "cell_type": "code",
   "execution_count": 338,
   "metadata": {},
   "outputs": [
    {
     "data": {
      "text/plain": [
       "array([[1],\n",
       "       [1],\n",
       "       [1],\n",
       "       [0],\n",
       "       [1]])"
      ]
     },
     "execution_count": 338,
     "metadata": {},
     "output_type": "execute_result"
    }
   ],
   "source": [
    "y_pred = np.where(y_proba_eval>0.5, 1, 0)\n",
    "y_pred[:5]"
   ]
  },
  {
   "cell_type": "code",
   "execution_count": 339,
   "metadata": {},
   "outputs": [
    {
     "data": {
      "text/plain": [
       "0.90000000000000002"
      ]
     },
     "execution_count": 339,
     "metadata": {},
     "output_type": "execute_result"
    }
   ],
   "source": [
    "from sklearn.metrics import accuracy_score, recall_score\n",
    "accuracy_score(y_pred, y_test)"
   ]
  },
  {
   "cell_type": "code",
   "execution_count": 340,
   "metadata": {},
   "outputs": [
    {
     "data": {
      "text/plain": [
       "0.91082802547770703"
      ]
     },
     "execution_count": 340,
     "metadata": {},
     "output_type": "execute_result"
    }
   ],
   "source": [
    "recall_score(y_pred, y_test)"
   ]
  },
  {
   "cell_type": "code",
   "execution_count": 341,
   "metadata": {},
   "outputs": [
    {
     "data": {
      "image/png": "[encoded data removed]",
      "text/plain": [
       "<matplotlib.figure.Figure at 0x1ed3879a4e0>"
      ]
     },
     "metadata": {},
     "output_type": "display_data"
    }
   ],
   "source": [
    "fig = plt.figure(figsize=(14,4))\n",
    "plt.subplot(121)\n",
    "plt.plot(X_moon_test[(y_moon_test==0).flatten(), 1], X_moon_test[(y_moon_test==0).flatten(), 2], \"ro\", label=\"Positve\")\n",
    "plt.plot(X_moon_test[(y_moon_test==1).flatten(), 1], X_moon_test[(y_moon_test==1).flatten(), 2], \"bs\", label=\"Negative\")\n",
    "plt.legend()\n",
    "\n",
    "plt.subplot(122)\n",
    "plt.plot(X_moon_test[(y_pred==0).flatten(), 1], X_moon_test[(y_pred==0).flatten(), 2], \"ro\", label=\"Positve\")\n",
    "plt.plot(X_moon_test[(y_pred==1).flatten(), 1], X_moon_test[(y_pred==1).flatten(), 2], \"bs\", label=\"Negative\")\n",
    "plt.legend()\n",
    "\n",
    "plt.show()"
   ]
  },
  {
   "cell_type": "markdown",
   "metadata": {},
   "source": [
    "Start over by adding all the bells and whistles\n",
    "* Define the graph within a `logistic_regression()` function that can be reused easily.\n",
    "* Save checkpoints using a `Saver` at regular intervals during training, and save the final model at the end of training.\n",
    "* Restore the last checkpoint upon startup if training was interrupted.\n",
    "* Define the graph using nice scopes so the graph looks good in TensorBoard.\n",
    "* Add summaries to visualize the learning curves in TensorBoard.\n",
    "* Try tweaking some hyperparameters such as the learning rate or the mini-batch size and look at the shape of the learning curve."
   ]
  },
  {
   "cell_type": "code",
   "execution_count": 6,
   "metadata": {
    "collapsed": true
   },
   "outputs": [],
   "source": [
    "from sklearn.preprocessing import PolynomialFeatures\n",
    "X_moon_train_transformed = PolynomialFeatures(degree=3).fit_transform(X_moon_train)\n",
    "X_moon_test_transformed = PolynomialFeatures(degree=3).fit_transform(X_moon_test)"
   ]
  },
  {
   "cell_type": "code",
   "execution_count": 7,
   "metadata": {},
   "outputs": [
    {
     "data": {
      "text/plain": [
       "array([[  1.00000000e+00,   1.00000000e+00,   1.30399966e+00,\n",
       "         -5.43294612e-01,   1.00000000e+00,   1.30399966e+00,\n",
       "         -5.43294612e-01,   1.70041512e+00,  -7.08455989e-01,\n",
       "          2.95169035e-01,   1.00000000e+00,   1.30399966e+00,\n",
       "         -5.43294612e-01,   1.70041512e+00,  -7.08455989e-01,\n",
       "          2.95169035e-01,   2.21734074e+00,  -9.23826370e-01,\n",
       "          3.84900322e-01,  -1.60363746e-01],\n",
       "       [  1.00000000e+00,   1.00000000e+00,   3.87982399e-01,\n",
       "         -5.13610232e-01,   1.00000000e+00,   3.87982399e-01,\n",
       "         -5.13610232e-01,   1.50530342e-01,  -1.99271730e-01,\n",
       "          2.63795470e-01,   1.00000000e+00,   3.87982399e-01,\n",
       "         -5.13610232e-01,   1.50530342e-01,  -1.99271730e-01,\n",
       "          2.63795470e-01,   5.84031232e-02,  -7.73139239e-02,\n",
       "          1.02347999e-01,  -1.35488053e-01],\n",
       "       [  1.00000000e+00,   1.00000000e+00,   2.04122428e+00,\n",
       "         -1.65462447e-01,   1.00000000e+00,   2.04122428e+00,\n",
       "         -1.65462447e-01,   4.16659658e+00,  -3.37745964e-01,\n",
       "          2.73778212e-02,   1.00000000e+00,   2.04122428e+00,\n",
       "         -1.65462447e-01,   4.16659658e+00,  -3.37745964e-01,\n",
       "          2.73778212e-02,   8.50495811e+00,  -6.89415264e-01,\n",
       "          5.58842736e-02,  -4.53000129e-03]])"
      ]
     },
     "execution_count": 7,
     "metadata": {},
     "output_type": "execute_result"
    }
   ],
   "source": [
    "X_moon_test_transformed[:3]"
   ]
  },
  {
   "cell_type": "code",
   "execution_count": 8,
   "metadata": {
    "collapsed": true
   },
   "outputs": [],
   "source": [
    "reset_graph()"
   ]
  },
  {
   "cell_type": "code",
   "execution_count": 9,
   "metadata": {
    "collapsed": true
   },
   "outputs": [],
   "source": [
    "def logistic_regression(X, y, learning_rate=0.01, seed=42): # X and y are tf placeholders\n",
    "    n = int(X.get_shape()[1]) # number of features\n",
    "    with tf.name_scope(\"logistic_regression\"):\n",
    "        theta = tf.Variable(tf.random_uniform([n,1], -1.0, 1.0, seed=seed), name=\"theta\")\n",
    "        logits = tf.matmul(X, theta, name=\"logits\")\n",
    "        y_proba = tf.sigmoid(logits)\n",
    "    with tf.name_scope(\"train\"):\n",
    "        loss = tf.losses.log_loss(y, y_proba)\n",
    "        optimizer = tf.train.GradientDescentOptimizer(learning_rate=learning_rate)\n",
    "        training_op = optimizer.minimize(loss)\n",
    "        loss_summary = tf.summary.scalar(\"log_loss\", loss)\n",
    "    with tf.name_scope(\"init\"):\n",
    "        init = tf.global_variables_initializer()\n",
    "    with tf.name_scope(\"save\"):\n",
    "        saver = tf.train.Saver()\n",
    "    return y_proba, loss, training_op, loss_summary, init, saver"
   ]
  },
  {
   "cell_type": "code",
   "execution_count": 10,
   "metadata": {
    "collapsed": true
   },
   "outputs": [],
   "source": [
    "from datetime import datetime\n",
    "\n",
    "def log_dir(prefix=\"\"):\n",
    "    now = datetime.utcnow().strftime(\"%Y%m%d%H%M%S\")\n",
    "    root_logdir = \"tf_logs\"\n",
    "    if prefix:\n",
    "        prefix += \"-\"\n",
    "    name = prefix + \"run-\" + now\n",
    "    return \"{0}/{1}/\".format(root_logdir, name)"
   ]
  },
  {
   "cell_type": "code",
   "execution_count": 12,
   "metadata": {
    "collapsed": true
   },
   "outputs": [],
   "source": [
    "n = X_moon_train_transformed.shape[1]\n",
    "logdir = log_dir(\"logreg\")\n",
    "\n",
    "X = tf.placeholder(dtype=tf.float32, shape=(None, n), name=\"X\")\n",
    "y = tf.placeholder(dtype=tf.float32, shape=(None,1), name=\"y\")\n",
    "\n",
    "y_proba, loss, training_op, loss_summary, init, saver = logistic_regression(X, y)\n",
    "\n",
    "#file_writer = tf.summary.FileWriter(logdir=logdir, graph=tf.get_default_graph())"
   ]
  },
  {
   "cell_type": "code",
   "execution_count": 13,
   "metadata": {},
   "outputs": [
    {
     "name": "stdout",
     "output_type": "stream",
     "text": [
      "Epoch:0, loss:0.46179312467575073\n",
      "Epoch:500, loss:0.09851544350385666\n",
      "Epoch:1000, loss:0.0694865956902504\n",
      "Epoch:1500, loss:0.05533203110098839\n",
      "Epoch:2000, loss:0.04686884582042694\n",
      "Epoch:2500, loss:0.04144919291138649\n",
      "Epoch:3000, loss:0.03735707700252533\n",
      "Epoch:3500, loss:0.03387782722711563\n",
      "Epoch:4000, loss:0.03150632232427597\n",
      "Epoch:4500, loss:0.0293304193764925\n",
      "Epoch:5000, loss:0.02790766954421997\n",
      "Epoch:5500, loss:0.0264726709574461\n",
      "Epoch:6000, loss:0.02518301270902157\n",
      "Epoch:6500, loss:0.024182846769690514\n",
      "Epoch:7000, loss:0.023259811103343964\n",
      "Epoch:7500, loss:0.022479820996522903\n",
      "Epoch:8000, loss:0.02179284580051899\n",
      "Epoch:8500, loss:0.02112344466149807\n",
      "Epoch:9000, loss:0.020582977682352066\n",
      "Epoch:9500, loss:0.02004995010793209\n",
      "Epoch:10000, loss:0.019584061577916145\n"
     ]
    }
   ],
   "source": [
    "import os\n",
    "n_epoches = 10001\n",
    "batch_size = 50\n",
    "batches = int(np.ceil(1000/batch_size))\n",
    "\n",
    "\n",
    "# checkpoint_path = \"/tmp/my_logreg_model.ckpt\"\n",
    "# checkpoint_epoch_path = checkpoint_path + \".epoch\"\n",
    "final_model_path = \"./my_logreg_model\"\n",
    "\n",
    "with tf.Session() as sess:\n",
    "    start_epoch = 0\n",
    "    sess.run(init)\n",
    "#     if os.path.isfile(checkpoint_epoch_path):\n",
    "#         with open(checkpoint_epoch_path, \"rb\") as f:\n",
    "#             start_epoch = int(f.read())\n",
    "#         print(\"Training was interrupted. Continuing at epoch\", start_epoch)\n",
    "#         saver.restore(sess, checkpoint_path)\n",
    "#     else:\n",
    "#         start_epoch = 0\n",
    "#         sess.run(init)\n",
    "    for epoch in range(start_epoch, n_epoches):\n",
    "        for batch_index in range(batches):\n",
    "            X_batch, y_batch = random_patch(X_moon_train_transformed, y_moon_train, batch_size)\n",
    "            sess.run(training_op, feed_dict={X:X_batch, y:y_batch})\n",
    "        loss_val, summary_str = sess.run([loss, loss_summary], feed_dict={X:X_moon_test_transformed, y:y_moon_test})\n",
    "\n",
    "        #file_writer.add_summary(summary_str, epoch)\n",
    "        if epoch%500 == 0:\n",
    "            print(\"Epoch:{0}, loss:{1}\".format(epoch, loss_val))\n",
    "#             saver.save(sess, checkpoint_path)\n",
    "#             with open(checkpoint_epoch_path, \"wb\") as f:\n",
    "#                 f.write(b\"%d\" % (epoch + 1))\n",
    "    y_proba_val = sess.run(y_proba, feed_dict={X:X_moon_test_transformed})\n",
    "    saver.save(sess, final_model_path)\n",
    "#   os.remove(checkpoint_epoch_path)"
   ]
  },
  {
   "cell_type": "code",
   "execution_count": 29,
   "metadata": {},
   "outputs": [
    {
     "data": {
      "text/plain": [
       "0.98757763975155277"
      ]
     },
     "execution_count": 29,
     "metadata": {},
     "output_type": "execute_result"
    }
   ],
   "source": [
    "from sklearn.metrics import accuracy_score, recall_score\n",
    "y_pred = np.where(y_proba_val>0.5, 1, 0)\n",
    "accuracy_score(y_pred, y_moon_test)"
   ]
  },
  {
   "cell_type": "code",
   "execution_count": 30,
   "metadata": {},
   "outputs": [
    {
     "data": {
      "text/plain": [
       "0.98757763975155277"
      ]
     },
     "execution_count": 30,
     "metadata": {},
     "output_type": "execute_result"
    }
   ],
   "source": [
    "recall_score(y_pred, y_moon_test)"
   ]
  },
  {
   "cell_type": "code",
   "execution_count": 31,
   "metadata": {},
   "outputs": [
    {
     "data": {
      "image/png": "[encoded data removed]",
      "text/plain": [
       "<matplotlib.figure.Figure at 0x1ec0978fba8>"
      ]
     },
     "metadata": {},
     "output_type": "display_data"
    }
   ],
   "source": [
    "fig = plt.figure(figsize=(14,4))\n",
    "plt.subplot(121)\n",
    "plt.plot(X_moon_test[(y_moon_test==0).flatten(), 1], X_moon_test[(y_moon_test==0).flatten(), 2], \"ro\", label=\"Positve\")\n",
    "plt.plot(X_moon_test[(y_moon_test==1).flatten(), 1], X_moon_test[(y_moon_test==1).flatten(), 2], \"bs\", label=\"Negative\")\n",
    "plt.legend()\n",
    "\n",
    "plt.subplot(122)\n",
    "plt.plot(X_moon_test[(y_pred==0).flatten(), 1], X_moon_test[(y_pred==0).flatten(), 2], \"ro\", label=\"Positve\")\n",
    "plt.plot(X_moon_test[(y_pred==1).flatten(), 1], X_moon_test[(y_pred==1).flatten(), 2], \"bs\", label=\"Negative\")\n",
    "plt.legend()\n",
    "\n",
    "plt.show()"
   ]
  },
  {
   "cell_type": "code",
   "execution_count": null,
   "metadata": {
    "collapsed": true
   },
   "outputs": [],
   "source": []
  }
 ],
 "metadata": {
  "kernelspec": {
   "display_name": "Python 3",
   "language": "python",
   "name": "python3"
  },
  "language_info": {
   "codemirror_mode": {
    "name": "ipython",
    "version": 3
   },
   "file_extension": ".py",
   "mimetype": "text/x-python",
   "name": "python",
   "nbconvert_exporter": "python",
   "pygments_lexer": "ipython3",
   "version": "3.6.1"
  }
 },
 "nbformat": 4,
 "nbformat_minor": 2
}
