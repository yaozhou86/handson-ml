{
 "cells": [
  {
   "cell_type": "markdown",
   "metadata": {},
   "source": [
    "### Question 1"
   ]
  },
  {
   "cell_type": "markdown",
   "metadata": {},
   "source": [
    "train a voting classifier"
   ]
  },
  {
   "cell_type": "code",
   "execution_count": 3,
   "metadata": {},
   "outputs": [
    {
     "name": "stdout",
     "output_type": "stream",
     "text": [
      "0.18.1\n"
     ]
    }
   ],
   "source": [
    "# common imports\n",
    "import pandas as pd\n",
    "import numpy as np\n",
    "import sklearn\n",
    "\n",
    "print(sklearn.__version__)"
   ]
  },
  {
   "cell_type": "code",
   "execution_count": 1,
   "metadata": {
    "collapsed": true
   },
   "outputs": [],
   "source": [
    "from sklearn.datasets import fetch_mldata\n",
    "mnist = fetch_mldata('MNIST original', data_home=\"datasets/mnist\")"
   ]
  },
  {
   "cell_type": "code",
   "execution_count": 29,
   "metadata": {},
   "outputs": [],
   "source": [
    "# split data into to training, validation and testing set\n",
    "\n",
    "idx = np.random.permutation(len(mnist[\"data\"]))\n",
    "data = mnist[\"data\"][idx]\n",
    "target = mnist[\"target\"][idx]\n",
    "\n",
    "X_train, y_train = data[:40000:10], target[:40000:10]\n",
    "X_val, y_val = data[40000:50000:10], target[40000:50000:10]\n",
    "X_test, y_test = data[50000::10], target[50000::10]"
   ]
  },
  {
   "cell_type": "code",
   "execution_count": 38,
   "metadata": {},
   "outputs": [],
   "source": [
    "# train multiple classifiers\n",
    "from sklearn.ensemble import RandomForestClassifier\n",
    "from sklearn.ensemble import ExtraTreesClassifier\n",
    "from sklearn.svm import SVC\n",
    "from sklearn.metrics import accuracy_score\n",
    "from sklearn.preprocessing import StandardScaler\n",
    "\n",
    "X_train_scaled = StandardScaler().fit_transform(X_train.astype(np.float64))\n",
    "X_val_scaled = StandardScaler().fit_transform(X_val.astype(np.float64))\n",
    "\n",
    "classifiers = [RandomForestClassifier(),\n",
    "              ExtraTreesClassifier(),\n",
    "              SVC(decision_function_shape = \"ovr\")]\n",
    "\n",
    "accuracy_scores = {}\n",
    "for clf in classifiers:\n",
    "    name = clf.__class__.__name__\n",
    "    clf.fit(X_train_scaled, y_train)\n",
    "    pred_y = clf.predict(X_val_scaled)\n",
    "    accuracy_scores[name] = accuracy_score(pred_y, y_val)"
   ]
  },
  {
   "cell_type": "code",
   "execution_count": 39,
   "metadata": {},
   "outputs": [
    {
     "name": "stdout",
     "output_type": "stream",
     "text": [
      "RandomForestClassifier 0.803\n",
      "ExtraTreesClassifier 0.898\n",
      "SVC 0.914\n"
     ]
    }
   ],
   "source": [
    "for key, value in accuracy_scores.items():\n",
    "    print(key, value)"
   ]
  },
  {
   "cell_type": "code",
   "execution_count": 43,
   "metadata": {},
   "outputs": [
    {
     "data": {
      "text/plain": [
       "0.93500000000000005"
      ]
     },
     "execution_count": 43,
     "metadata": {},
     "output_type": "execute_result"
    }
   ],
   "source": [
    "from sklearn.ensemble import VotingClassifier\n",
    "rnd_clf = RandomForestClassifier(random_state=42)\n",
    "tree_clf = ExtraTreesClassifier(random_state=42)\n",
    "svc_clf = SVC(probability=True, random_state=42)\n",
    "\n",
    "voting_clf = VotingClassifier([(\"rnd\", rnd_clf),\n",
    "                               (\"extra_tree\", tree_clf),\n",
    "                               (\"svc\", svc_clf)], voting=\"soft\")\n",
    "\n",
    "voting_clf.fit(X_train_scaled, y_train)\n",
    "accuracy_score(voting_clf.predict(X_val_scaled), y_val)"
   ]
  },
  {
   "cell_type": "code",
   "execution_count": 44,
   "metadata": {},
   "outputs": [
    {
     "name": "stderr",
     "output_type": "stream",
     "text": [
      "C:\\Users\\yaozh\\Anaconda3\\lib\\site-packages\\sklearn\\utils\\validation.py:429: DataConversionWarning: Data with input dtype uint8 was converted to float64 by StandardScaler.\n",
      "  warnings.warn(msg, _DataConversionWarning)\n"
     ]
    },
    {
     "data": {
      "text/plain": [
       "0.96850000000000003"
      ]
     },
     "execution_count": 44,
     "metadata": {},
     "output_type": "execute_result"
    }
   ],
   "source": [
    "X_train, y_train = data[:40000], target[:40000]\n",
    "X_val, y_val = data[40000:50000], target[40000:50000]\n",
    "X_test, y_test = data[50000:], target[50000:]\n",
    "\n",
    "X_train_scaled = StandardScaler().fit_transform(X_train)\n",
    "X_val_scaled = StandardScaler().fit_transform(X_val)\n",
    "\n",
    "voting_clf.fit(X_train_scaled, y_train)\n",
    "accuracy_score(voting_clf.predict(X_val_scaled), y_val)"
   ]
  },
  {
   "cell_type": "markdown",
   "metadata": {},
   "source": [
    "### Question 2"
   ]
  },
  {
   "cell_type": "markdown",
   "metadata": {},
   "source": [
    "train a blender"
   ]
  },
  {
   "cell_type": "code",
   "execution_count": 46,
   "metadata": {},
   "outputs": [
    {
     "name": "stderr",
     "output_type": "stream",
     "text": [
      "C:\\Users\\yaozh\\Anaconda3\\lib\\site-packages\\sklearn\\utils\\validation.py:429: DataConversionWarning: Data with input dtype uint8 was converted to float64 by StandardScaler.\n",
      "  warnings.warn(msg, _DataConversionWarning)\n"
     ]
    }
   ],
   "source": [
    "X_train, y_train = data[:40000:10], target[:40000:10]\n",
    "X_val, y_val = data[40000:50000:10], target[40000:50000:10]\n",
    "X_test, y_test = data[50000::10], target[50000::10]\n",
    "\n",
    "X_train_scaled = StandardScaler().fit_transform(X_train)\n",
    "X_val_scaled = StandardScaler().fit_transform(X_val)\n",
    "\n",
    "rnd_clf = RandomForestClassifier(random_state=42)\n",
    "tree_clf = ExtraTreesClassifier(random_state=42)\n",
    "svc_clf = SVC(random_state=42)\n",
    "\n",
    "rnd_clf.fit(X_train_scaled, y_train)\n",
    "y_rnd_pred = rnd_clf.predict(X_val_scaled)\n",
    "\n",
    "tree_clf.fit(X_train_scaled, y_train)\n",
    "y_tree_pred = tree_clf.predict(X_val_scaled)\n",
    "\n",
    "svc_clf.fit(X_train_scaled, y_train)\n",
    "y_svc_pred = svc_clf.predict(X_val_scaled)"
   ]
  },
  {
   "cell_type": "code",
   "execution_count": 47,
   "metadata": {},
   "outputs": [
    {
     "name": "stdout",
     "output_type": "stream",
     "text": [
      "(1000,) (1000,) (1000,)\n"
     ]
    }
   ],
   "source": [
    "print(y_rnd_pred.shape, y_tree_pred.shape, y_svc_pred.shape)"
   ]
  },
  {
   "cell_type": "code",
   "execution_count": 51,
   "metadata": {},
   "outputs": [
    {
     "data": {
      "text/plain": [
       "array([[ 0.,  0.,  0.,  0.],\n",
       "       [ 1.,  1.,  1.,  1.],\n",
       "       [ 9.,  9.,  9.,  9.],\n",
       "       ..., \n",
       "       [ 9.,  4.,  9.,  9.],\n",
       "       [ 7.,  7.,  7.,  7.],\n",
       "       [ 4.,  4.,  4.,  4.]])"
      ]
     },
     "execution_count": 51,
     "metadata": {},
     "output_type": "execute_result"
    }
   ],
   "source": [
    "blend = np.c_[y_rnd_pred, y_tree_pred, y_svc_pred, y_val]\n",
    "blend"
   ]
  },
  {
   "cell_type": "code",
   "execution_count": 54,
   "metadata": {},
   "outputs": [
    {
     "data": {
      "text/plain": [
       "RandomForestClassifier(bootstrap=True, class_weight=None, criterion='gini',\n",
       "            max_depth=None, max_features='auto', max_leaf_nodes=None,\n",
       "            min_impurity_split=1e-07, min_samples_leaf=1,\n",
       "            min_samples_split=2, min_weight_fraction_leaf=0.0,\n",
       "            n_estimators=10, n_jobs=1, oob_score=False, random_state=42,\n",
       "            verbose=0, warm_start=False)"
      ]
     },
     "execution_count": 54,
     "metadata": {},
     "output_type": "execute_result"
    }
   ],
   "source": [
    "blender_clf = RandomForestClassifier(random_state=42)\n",
    "blender_clf.fit(blend[:,:3], blend[:,3])"
   ]
  },
  {
   "cell_type": "code",
   "execution_count": 55,
   "metadata": {},
   "outputs": [
    {
     "name": "stderr",
     "output_type": "stream",
     "text": [
      "C:\\Users\\yaozh\\Anaconda3\\lib\\site-packages\\sklearn\\utils\\validation.py:429: DataConversionWarning: Data with input dtype uint8 was converted to float64 by StandardScaler.\n",
      "  warnings.warn(msg, _DataConversionWarning)\n"
     ]
    }
   ],
   "source": [
    "X_test_scaled = StandardScaler().fit_transform(X_test)"
   ]
  },
  {
   "cell_type": "code",
   "execution_count": 56,
   "metadata": {
    "collapsed": true
   },
   "outputs": [],
   "source": [
    "pred_rnd = rnd_clf.predict(X_test_scaled)\n",
    "pred_tree = tree_clf.predict(X_test_scaled)\n",
    "pred_svc = svc_clf.predict(X_test_scaled)"
   ]
  },
  {
   "cell_type": "code",
   "execution_count": 57,
   "metadata": {
    "collapsed": true
   },
   "outputs": [],
   "source": [
    "y_test_pred = blender_clf.predict(np.c_[pred_rnd, pred_tree, pred_svc])"
   ]
  },
  {
   "cell_type": "code",
   "execution_count": 58,
   "metadata": {},
   "outputs": [
    {
     "data": {
      "text/plain": [
       "0.91449999999999998"
      ]
     },
     "execution_count": 58,
     "metadata": {},
     "output_type": "execute_result"
    }
   ],
   "source": [
    "accuracy_score(y_test_pred, y_test)"
   ]
  },
  {
   "cell_type": "code",
   "execution_count": null,
   "metadata": {
    "collapsed": true
   },
   "outputs": [],
   "source": []
  }
 ],
 "metadata": {
  "kernelspec": {
   "display_name": "Python 3",
   "language": "python",
   "name": "python3"
  },
  "language_info": {
   "codemirror_mode": {
    "name": "ipython",
    "version": 3
   },
   "file_extension": ".py",
   "mimetype": "text/x-python",
   "name": "python",
   "nbconvert_exporter": "python",
   "pygments_lexer": "ipython3",
   "version": "3.6.1"
  }
 },
 "nbformat": 4,
 "nbformat_minor": 2
}
